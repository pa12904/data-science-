{
 "cells": [
  {
   "cell_type": "code",
   "execution_count": 1,
   "id": "7bc540c5",
   "metadata": {},
   "outputs": [],
   "source": [
    "data= \"welcome to the data science world \""
   ]
  },
  {
   "cell_type": "code",
   "execution_count": 2,
   "id": "14fb2a33",
   "metadata": {},
   "outputs": [
    {
     "data": {
      "text/plain": [
       "'welcome to the data science world '"
      ]
     },
     "execution_count": 2,
     "metadata": {},
     "output_type": "execute_result"
    }
   ],
   "source": [
    "data"
   ]
  },
  {
   "cell_type": "code",
   "execution_count": 5,
   "id": "63e80c48",
   "metadata": {},
   "outputs": [
    {
     "name": "stdout",
     "output_type": "stream",
     "text": [
      "my name is pawan kumar\n"
     ]
    }
   ],
   "source": [
    "a = \"my name is pawan kumar\"\n",
    "print(a)"
   ]
  },
  {
   "cell_type": "code",
   "execution_count": 9,
   "id": "8103c6f7",
   "metadata": {},
   "outputs": [
    {
     "name": "stdout",
     "output_type": "stream",
     "text": [
      "19\n"
     ]
    }
   ],
   "source": [
    "print(10+9)"
   ]
  },
  {
   "cell_type": "code",
   "execution_count": 10,
   "id": "f8375a00",
   "metadata": {},
   "outputs": [
    {
     "name": "stdout",
     "output_type": "stream",
     "text": [
      "77\n"
     ]
    }
   ],
   "source": [
    "print(89-12)"
   ]
  },
  {
   "cell_type": "code",
   "execution_count": null,
   "id": "ab9f9cc5",
   "metadata": {},
   "outputs": [],
   "source": [
    "full"
   ]
  }
 ],
 "metadata": {
  "kernelspec": {
   "display_name": "Python 3 (ipykernel)",
   "language": "python",
   "name": "python3"
  },
  "language_info": {
   "codemirror_mode": {
    "name": "ipython",
    "version": 3
   },
   "file_extension": ".py",
   "mimetype": "text/x-python",
   "name": "python",
   "nbconvert_exporter": "python",
   "pygments_lexer": "ipython3",
   "version": "3.10.9"
  }
 },
 "nbformat": 4,
 "nbformat_minor": 5
}
